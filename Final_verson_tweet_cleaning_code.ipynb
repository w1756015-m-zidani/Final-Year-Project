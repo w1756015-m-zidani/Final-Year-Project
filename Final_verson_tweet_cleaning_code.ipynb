{
  "nbformat": 4,
  "nbformat_minor": 0,
  "metadata": {
    "colab": {
      "provenance": [],
      "authorship_tag": "ABX9TyMY93CJviizzeXxRR0WseEi",
      "include_colab_link": true
    },
    "kernelspec": {
      "name": "python3",
      "display_name": "Python 3"
    },
    "language_info": {
      "name": "python"
    }
  },
  "cells": [
    {
      "cell_type": "markdown",
      "metadata": {
        "id": "view-in-github",
        "colab_type": "text"
      },
      "source": [
        "<a href=\"https://colab.research.google.com/github/w1756015-m-zidani/Final-Year-Project/blob/main/Final_verson_tweet_cleaning_code.ipynb\" target=\"_parent\"><img src=\"https://colab.research.google.com/assets/colab-badge.svg\" alt=\"Open In Colab\"/></a>"
      ]
    },
    {
      "cell_type": "code",
      "execution_count": 1,
      "metadata": {
        "id": "gKhqDbDxziCh",
        "colab": {
          "base_uri": "https://localhost:8080/"
        },
        "outputId": "6265f154-a7a8-479e-8625-cad02db979cc"
      },
      "outputs": [
        {
          "output_type": "stream",
          "name": "stdout",
          "text": [
            "Looking in indexes: https://pypi.org/simple, https://us-python.pkg.dev/colab-wheels/public/simple/\n",
            "Requirement already satisfied: vaderSentiment in /usr/local/lib/python3.10/dist-packages (3.3.2)\n",
            "Requirement already satisfied: requests in /usr/local/lib/python3.10/dist-packages (from vaderSentiment) (2.27.1)\n",
            "Requirement already satisfied: urllib3<1.27,>=1.21.1 in /usr/local/lib/python3.10/dist-packages (from requests->vaderSentiment) (1.26.15)\n",
            "Requirement already satisfied: certifi>=2017.4.17 in /usr/local/lib/python3.10/dist-packages (from requests->vaderSentiment) (2022.12.7)\n",
            "Requirement already satisfied: charset-normalizer~=2.0.0 in /usr/local/lib/python3.10/dist-packages (from requests->vaderSentiment) (2.0.12)\n",
            "Requirement already satisfied: idna<4,>=2.5 in /usr/local/lib/python3.10/dist-packages (from requests->vaderSentiment) (3.4)\n"
          ]
        }
      ],
      "source": [
        "pip install vaderSentiment"
      ]
    },
    {
      "cell_type": "code",
      "source": [
        "pip install afinn"
      ],
      "metadata": {
        "id": "Lag0cNGxzkKg",
        "colab": {
          "base_uri": "https://localhost:8080/"
        },
        "outputId": "3b4457ca-07d3-4fed-9a45-85a969a8b556"
      },
      "execution_count": 2,
      "outputs": [
        {
          "output_type": "stream",
          "name": "stdout",
          "text": [
            "Looking in indexes: https://pypi.org/simple, https://us-python.pkg.dev/colab-wheels/public/simple/\n",
            "Requirement already satisfied: afinn in /usr/local/lib/python3.10/dist-packages (0.1)\n"
          ]
        }
      ]
    },
    {
      "cell_type": "markdown",
      "source": [
        "Import Librarys"
      ],
      "metadata": {
        "id": "526qYDRkztZw"
      }
    },
    {
      "cell_type": "code",
      "source": [
        "import pandas as pd\n",
        "import re\n",
        "import string\n",
        "import nltk\n",
        "from textblob import TextBlob\n",
        "from vaderSentiment.vaderSentiment import SentimentIntensityAnalyzer\n",
        "from afinn import Afinn\n",
        "import spacy\n",
        "\n",
        "\n",
        "# Load the spaCy language model\n",
        "nlp = spacy.load('en_core_web_sm')\n"
      ],
      "metadata": {
        "id": "zmaDojD4zkE8"
      },
      "execution_count": 3,
      "outputs": []
    },
    {
      "cell_type": "markdown",
      "source": [
        "Define Functions for Tokenization and Cleaning of Tweets"
      ],
      "metadata": {
        "id": "0n0HFc51zxNY"
      }
    },
    {
      "cell_type": "code",
      "source": [
        "\n",
        "# Define a function to perform tokenization and lemmatization using spaCy\n",
        "def tokenize_and_lemmatize(text):\n",
        "    # Tokenize the text using spaCy\n",
        "    doc = nlp(text)\n",
        "    # Lemmatize each token and remove punctuation, stop words, and whitespace\n",
        "    tokens = [token.lemma_.lower().strip() for token in doc if not token.is_punct and not token.is_stop and not token.is_space]\n",
        "    # Join the tokens back into a string\n",
        "    return ' '.join(tokens)\n",
        "\n",
        "# Define a function to clean the tweets\n",
        "def clean_tweet(tweet):\n",
        "    # Remove URLs\n",
        "    tweet = re.sub(r'http\\S+', '', tweet)\n",
        "    # Remove mentions and hashtags\n",
        "    tweet = re.sub(r'@\\w+|#\\w+', '', tweet)\n",
        "    # Remove punctuation\n",
        "    tweet = tweet.translate(str.maketrans('', '', string.punctuation))\n",
        "    # Remove non-alphanumeric characters\n",
        "    tweet = re.sub(r'[^A-Za-z0-9\\s]+', '', tweet)\n",
        "    # Convert everything to lowercase\n",
        "    tweet = tweet.lower()\n",
        "    # Tokenize and lemmatize the tweet\n",
        "    tweet = tokenize_and_lemmatize(tweet)\n",
        "\n",
        "\n",
        "    return tweet\n"
      ],
      "metadata": {
        "id": "vezAXMRezj9C"
      },
      "execution_count": 5,
      "outputs": []
    },
    {
      "cell_type": "markdown",
      "source": [
        "Load & clean the Data"
      ],
      "metadata": {
        "id": "gznxVsxVz8X6"
      }
    },
    {
      "cell_type": "code",
      "source": [
        "# Load the dataset\n",
        "df = pd.read_csv('Demo Tweets.csv', encoding='ISO-8859-1')\n",
        "\n",
        "# Clean the tweets\n",
        "df['cleaned_text'] = df['Tweet'].apply(clean_tweet)\n"
      ],
      "metadata": {
        "id": "QIQTIVqrzj5B"
      },
      "execution_count": 6,
      "outputs": []
    },
    {
      "cell_type": "code",
      "source": [
        "df.head()\n"
      ],
      "metadata": {
        "id": "_ZZKtnl7a2Nr",
        "colab": {
          "base_uri": "https://localhost:8080/",
          "height": 363
        },
        "outputId": "e326f681-8e8c-433e-d030-9461ee7e9199"
      },
      "execution_count": 7,
      "outputs": [
        {
          "output_type": "execute_result",
          "data": {
            "text/plain": [
              "                                               Tweet  \\\n",
              "0  The Daily Mail has really turned on Boris John...   \n",
              "1  ????Boris Johnson, primer ministro británico, ...   \n",
              "2  More Tax payers money Laundering through Boris...   \n",
              "3  @paulwaugh We love Boris Johnson \\n\\nThe Briti...   \n",
              "4  Just like the time he reframed the google resu...   \n",
              "\n",
              "                                        cleaned_text  \n",
              "0  daily mail turn boris johnson guess owner edit...  \n",
              "1  boris johnson primer ministro britnico dijo qu...  \n",
              "2  tax payer money laundering boris johnson bill ...  \n",
              "3  love boris johnson british people place trust ...  \n",
              "4  like time reframe google result boris johnson ...  "
            ],
            "text/html": [
              "\n",
              "  <div id=\"df-73bb0caf-16ee-46d4-ab47-990cbe959d58\">\n",
              "    <div class=\"colab-df-container\">\n",
              "      <div>\n",
              "<style scoped>\n",
              "    .dataframe tbody tr th:only-of-type {\n",
              "        vertical-align: middle;\n",
              "    }\n",
              "\n",
              "    .dataframe tbody tr th {\n",
              "        vertical-align: top;\n",
              "    }\n",
              "\n",
              "    .dataframe thead th {\n",
              "        text-align: right;\n",
              "    }\n",
              "</style>\n",
              "<table border=\"1\" class=\"dataframe\">\n",
              "  <thead>\n",
              "    <tr style=\"text-align: right;\">\n",
              "      <th></th>\n",
              "      <th>Tweet</th>\n",
              "      <th>cleaned_text</th>\n",
              "    </tr>\n",
              "  </thead>\n",
              "  <tbody>\n",
              "    <tr>\n",
              "      <th>0</th>\n",
              "      <td>The Daily Mail has really turned on Boris John...</td>\n",
              "      <td>daily mail turn boris johnson guess owner edit...</td>\n",
              "    </tr>\n",
              "    <tr>\n",
              "      <th>1</th>\n",
              "      <td>????Boris Johnson, primer ministro británico, ...</td>\n",
              "      <td>boris johnson primer ministro britnico dijo qu...</td>\n",
              "    </tr>\n",
              "    <tr>\n",
              "      <th>2</th>\n",
              "      <td>More Tax payers money Laundering through Boris...</td>\n",
              "      <td>tax payer money laundering boris johnson bill ...</td>\n",
              "    </tr>\n",
              "    <tr>\n",
              "      <th>3</th>\n",
              "      <td>@paulwaugh We love Boris Johnson \\n\\nThe Briti...</td>\n",
              "      <td>love boris johnson british people place trust ...</td>\n",
              "    </tr>\n",
              "    <tr>\n",
              "      <th>4</th>\n",
              "      <td>Just like the time he reframed the google resu...</td>\n",
              "      <td>like time reframe google result boris johnson ...</td>\n",
              "    </tr>\n",
              "  </tbody>\n",
              "</table>\n",
              "</div>\n",
              "      <button class=\"colab-df-convert\" onclick=\"convertToInteractive('df-73bb0caf-16ee-46d4-ab47-990cbe959d58')\"\n",
              "              title=\"Convert this dataframe to an interactive table.\"\n",
              "              style=\"display:none;\">\n",
              "        \n",
              "  <svg xmlns=\"http://www.w3.org/2000/svg\" height=\"24px\"viewBox=\"0 0 24 24\"\n",
              "       width=\"24px\">\n",
              "    <path d=\"M0 0h24v24H0V0z\" fill=\"none\"/>\n",
              "    <path d=\"M18.56 5.44l.94 2.06.94-2.06 2.06-.94-2.06-.94-.94-2.06-.94 2.06-2.06.94zm-11 1L8.5 8.5l.94-2.06 2.06-.94-2.06-.94L8.5 2.5l-.94 2.06-2.06.94zm10 10l.94 2.06.94-2.06 2.06-.94-2.06-.94-.94-2.06-.94 2.06-2.06.94z\"/><path d=\"M17.41 7.96l-1.37-1.37c-.4-.4-.92-.59-1.43-.59-.52 0-1.04.2-1.43.59L10.3 9.45l-7.72 7.72c-.78.78-.78 2.05 0 2.83L4 21.41c.39.39.9.59 1.41.59.51 0 1.02-.2 1.41-.59l7.78-7.78 2.81-2.81c.8-.78.8-2.07 0-2.86zM5.41 20L4 18.59l7.72-7.72 1.47 1.35L5.41 20z\"/>\n",
              "  </svg>\n",
              "      </button>\n",
              "      \n",
              "  <style>\n",
              "    .colab-df-container {\n",
              "      display:flex;\n",
              "      flex-wrap:wrap;\n",
              "      gap: 12px;\n",
              "    }\n",
              "\n",
              "    .colab-df-convert {\n",
              "      background-color: #E8F0FE;\n",
              "      border: none;\n",
              "      border-radius: 50%;\n",
              "      cursor: pointer;\n",
              "      display: none;\n",
              "      fill: #1967D2;\n",
              "      height: 32px;\n",
              "      padding: 0 0 0 0;\n",
              "      width: 32px;\n",
              "    }\n",
              "\n",
              "    .colab-df-convert:hover {\n",
              "      background-color: #E2EBFA;\n",
              "      box-shadow: 0px 1px 2px rgba(60, 64, 67, 0.3), 0px 1px 3px 1px rgba(60, 64, 67, 0.15);\n",
              "      fill: #174EA6;\n",
              "    }\n",
              "\n",
              "    [theme=dark] .colab-df-convert {\n",
              "      background-color: #3B4455;\n",
              "      fill: #D2E3FC;\n",
              "    }\n",
              "\n",
              "    [theme=dark] .colab-df-convert:hover {\n",
              "      background-color: #434B5C;\n",
              "      box-shadow: 0px 1px 3px 1px rgba(0, 0, 0, 0.15);\n",
              "      filter: drop-shadow(0px 1px 2px rgba(0, 0, 0, 0.3));\n",
              "      fill: #FFFFFF;\n",
              "    }\n",
              "  </style>\n",
              "\n",
              "      <script>\n",
              "        const buttonEl =\n",
              "          document.querySelector('#df-73bb0caf-16ee-46d4-ab47-990cbe959d58 button.colab-df-convert');\n",
              "        buttonEl.style.display =\n",
              "          google.colab.kernel.accessAllowed ? 'block' : 'none';\n",
              "\n",
              "        async function convertToInteractive(key) {\n",
              "          const element = document.querySelector('#df-73bb0caf-16ee-46d4-ab47-990cbe959d58');\n",
              "          const dataTable =\n",
              "            await google.colab.kernel.invokeFunction('convertToInteractive',\n",
              "                                                     [key], {});\n",
              "          if (!dataTable) return;\n",
              "\n",
              "          const docLinkHtml = 'Like what you see? Visit the ' +\n",
              "            '<a target=\"_blank\" href=https://colab.research.google.com/notebooks/data_table.ipynb>data table notebook</a>'\n",
              "            + ' to learn more about interactive tables.';\n",
              "          element.innerHTML = '';\n",
              "          dataTable['output_type'] = 'display_data';\n",
              "          await google.colab.output.renderOutput(dataTable, element);\n",
              "          const docLink = document.createElement('div');\n",
              "          docLink.innerHTML = docLinkHtml;\n",
              "          element.appendChild(docLink);\n",
              "        }\n",
              "      </script>\n",
              "    </div>\n",
              "  </div>\n",
              "  "
            ]
          },
          "metadata": {},
          "execution_count": 7
        }
      ]
    },
    {
      "cell_type": "markdown",
      "source": [
        "Remove non-english tweets"
      ],
      "metadata": {
        "id": "O4altWGlmBEQ"
      }
    },
    {
      "cell_type": "code",
      "source": [
        "!pip install langdetect"
      ],
      "metadata": {
        "id": "PSfyJxtLs-Nq",
        "colab": {
          "base_uri": "https://localhost:8080/"
        },
        "outputId": "79f8e6c2-3ab9-49c2-e5b1-35f9fc84975e"
      },
      "execution_count": 8,
      "outputs": [
        {
          "output_type": "stream",
          "name": "stdout",
          "text": [
            "Looking in indexes: https://pypi.org/simple, https://us-python.pkg.dev/colab-wheels/public/simple/\n",
            "Requirement already satisfied: langdetect in /usr/local/lib/python3.10/dist-packages (1.0.9)\n",
            "Requirement already satisfied: six in /usr/local/lib/python3.10/dist-packages (from langdetect) (1.16.0)\n"
          ]
        }
      ]
    },
    {
      "cell_type": "code",
      "source": [
        "from langdetect import detect"
      ],
      "metadata": {
        "id": "gTdsuxJbtDhB"
      },
      "execution_count": 9,
      "outputs": []
    },
    {
      "cell_type": "code",
      "source": [
        "\n",
        "# Define a function to remove non-English tweets\n",
        "def remove_non_english_tweets(df):\n",
        "    df['lang'] = df['Tweet'].apply(lambda x: detect(x))\n",
        "    df = df[df['lang']=='en']\n",
        "    df = df.drop(['lang'], axis=1)\n",
        "    return df"
      ],
      "metadata": {
        "id": "4bG0DMEOl8jr"
      },
      "execution_count": 10,
      "outputs": []
    },
    {
      "cell_type": "code",
      "source": [
        "df2 = remove_non_english_tweets(df)"
      ],
      "metadata": {
        "id": "gEME_9pEqPHe"
      },
      "execution_count": 11,
      "outputs": []
    },
    {
      "cell_type": "code",
      "source": [
        "df2.shape"
      ],
      "metadata": {
        "colab": {
          "base_uri": "https://localhost:8080/"
        },
        "id": "s97EhDLHmbrv",
        "outputId": "3ba14191-2256-4cb2-cd8b-de81817f975c"
      },
      "execution_count": 12,
      "outputs": [
        {
          "output_type": "execute_result",
          "data": {
            "text/plain": [
              "(955, 2)"
            ]
          },
          "metadata": {},
          "execution_count": 12
        }
      ]
    },
    {
      "cell_type": "code",
      "source": [
        "df2.head()"
      ],
      "metadata": {
        "colab": {
          "base_uri": "https://localhost:8080/",
          "height": 206
        },
        "id": "Hbqv6O7cuVe_",
        "outputId": "1625ab55-0770-481a-8e5c-65005e5e7cb4"
      },
      "execution_count": 13,
      "outputs": [
        {
          "output_type": "execute_result",
          "data": {
            "text/plain": [
              "                                               Tweet  \\\n",
              "0  The Daily Mail has really turned on Boris John...   \n",
              "2  More Tax payers money Laundering through Boris...   \n",
              "3  @paulwaugh We love Boris Johnson \\n\\nThe Briti...   \n",
              "4  Just like the time he reframed the google resu...   \n",
              "6  @44tunafish @northumbrian_ @BootsVernon @Jim_C...   \n",
              "\n",
              "                                        cleaned_text  \n",
              "0  daily mail turn boris johnson guess owner edit...  \n",
              "2  tax payer money laundering boris johnson bill ...  \n",
              "3  love boris johnson british people place trust ...  \n",
              "4  like time reframe google result boris johnson ...  \n",
              "6  like boris johnson explicitly not want people ...  "
            ],
            "text/html": [
              "\n",
              "  <div id=\"df-a33565ae-1339-4122-bc15-c31af4657067\">\n",
              "    <div class=\"colab-df-container\">\n",
              "      <div>\n",
              "<style scoped>\n",
              "    .dataframe tbody tr th:only-of-type {\n",
              "        vertical-align: middle;\n",
              "    }\n",
              "\n",
              "    .dataframe tbody tr th {\n",
              "        vertical-align: top;\n",
              "    }\n",
              "\n",
              "    .dataframe thead th {\n",
              "        text-align: right;\n",
              "    }\n",
              "</style>\n",
              "<table border=\"1\" class=\"dataframe\">\n",
              "  <thead>\n",
              "    <tr style=\"text-align: right;\">\n",
              "      <th></th>\n",
              "      <th>Tweet</th>\n",
              "      <th>cleaned_text</th>\n",
              "    </tr>\n",
              "  </thead>\n",
              "  <tbody>\n",
              "    <tr>\n",
              "      <th>0</th>\n",
              "      <td>The Daily Mail has really turned on Boris John...</td>\n",
              "      <td>daily mail turn boris johnson guess owner edit...</td>\n",
              "    </tr>\n",
              "    <tr>\n",
              "      <th>2</th>\n",
              "      <td>More Tax payers money Laundering through Boris...</td>\n",
              "      <td>tax payer money laundering boris johnson bill ...</td>\n",
              "    </tr>\n",
              "    <tr>\n",
              "      <th>3</th>\n",
              "      <td>@paulwaugh We love Boris Johnson \\n\\nThe Briti...</td>\n",
              "      <td>love boris johnson british people place trust ...</td>\n",
              "    </tr>\n",
              "    <tr>\n",
              "      <th>4</th>\n",
              "      <td>Just like the time he reframed the google resu...</td>\n",
              "      <td>like time reframe google result boris johnson ...</td>\n",
              "    </tr>\n",
              "    <tr>\n",
              "      <th>6</th>\n",
              "      <td>@44tunafish @northumbrian_ @BootsVernon @Jim_C...</td>\n",
              "      <td>like boris johnson explicitly not want people ...</td>\n",
              "    </tr>\n",
              "  </tbody>\n",
              "</table>\n",
              "</div>\n",
              "      <button class=\"colab-df-convert\" onclick=\"convertToInteractive('df-a33565ae-1339-4122-bc15-c31af4657067')\"\n",
              "              title=\"Convert this dataframe to an interactive table.\"\n",
              "              style=\"display:none;\">\n",
              "        \n",
              "  <svg xmlns=\"http://www.w3.org/2000/svg\" height=\"24px\"viewBox=\"0 0 24 24\"\n",
              "       width=\"24px\">\n",
              "    <path d=\"M0 0h24v24H0V0z\" fill=\"none\"/>\n",
              "    <path d=\"M18.56 5.44l.94 2.06.94-2.06 2.06-.94-2.06-.94-.94-2.06-.94 2.06-2.06.94zm-11 1L8.5 8.5l.94-2.06 2.06-.94-2.06-.94L8.5 2.5l-.94 2.06-2.06.94zm10 10l.94 2.06.94-2.06 2.06-.94-2.06-.94-.94-2.06-.94 2.06-2.06.94z\"/><path d=\"M17.41 7.96l-1.37-1.37c-.4-.4-.92-.59-1.43-.59-.52 0-1.04.2-1.43.59L10.3 9.45l-7.72 7.72c-.78.78-.78 2.05 0 2.83L4 21.41c.39.39.9.59 1.41.59.51 0 1.02-.2 1.41-.59l7.78-7.78 2.81-2.81c.8-.78.8-2.07 0-2.86zM5.41 20L4 18.59l7.72-7.72 1.47 1.35L5.41 20z\"/>\n",
              "  </svg>\n",
              "      </button>\n",
              "      \n",
              "  <style>\n",
              "    .colab-df-container {\n",
              "      display:flex;\n",
              "      flex-wrap:wrap;\n",
              "      gap: 12px;\n",
              "    }\n",
              "\n",
              "    .colab-df-convert {\n",
              "      background-color: #E8F0FE;\n",
              "      border: none;\n",
              "      border-radius: 50%;\n",
              "      cursor: pointer;\n",
              "      display: none;\n",
              "      fill: #1967D2;\n",
              "      height: 32px;\n",
              "      padding: 0 0 0 0;\n",
              "      width: 32px;\n",
              "    }\n",
              "\n",
              "    .colab-df-convert:hover {\n",
              "      background-color: #E2EBFA;\n",
              "      box-shadow: 0px 1px 2px rgba(60, 64, 67, 0.3), 0px 1px 3px 1px rgba(60, 64, 67, 0.15);\n",
              "      fill: #174EA6;\n",
              "    }\n",
              "\n",
              "    [theme=dark] .colab-df-convert {\n",
              "      background-color: #3B4455;\n",
              "      fill: #D2E3FC;\n",
              "    }\n",
              "\n",
              "    [theme=dark] .colab-df-convert:hover {\n",
              "      background-color: #434B5C;\n",
              "      box-shadow: 0px 1px 3px 1px rgba(0, 0, 0, 0.15);\n",
              "      filter: drop-shadow(0px 1px 2px rgba(0, 0, 0, 0.3));\n",
              "      fill: #FFFFFF;\n",
              "    }\n",
              "  </style>\n",
              "\n",
              "      <script>\n",
              "        const buttonEl =\n",
              "          document.querySelector('#df-a33565ae-1339-4122-bc15-c31af4657067 button.colab-df-convert');\n",
              "        buttonEl.style.display =\n",
              "          google.colab.kernel.accessAllowed ? 'block' : 'none';\n",
              "\n",
              "        async function convertToInteractive(key) {\n",
              "          const element = document.querySelector('#df-a33565ae-1339-4122-bc15-c31af4657067');\n",
              "          const dataTable =\n",
              "            await google.colab.kernel.invokeFunction('convertToInteractive',\n",
              "                                                     [key], {});\n",
              "          if (!dataTable) return;\n",
              "\n",
              "          const docLinkHtml = 'Like what you see? Visit the ' +\n",
              "            '<a target=\"_blank\" href=https://colab.research.google.com/notebooks/data_table.ipynb>data table notebook</a>'\n",
              "            + ' to learn more about interactive tables.';\n",
              "          element.innerHTML = '';\n",
              "          dataTable['output_type'] = 'display_data';\n",
              "          await google.colab.output.renderOutput(dataTable, element);\n",
              "          const docLink = document.createElement('div');\n",
              "          docLink.innerHTML = docLinkHtml;\n",
              "          element.appendChild(docLink);\n",
              "        }\n",
              "      </script>\n",
              "    </div>\n",
              "  </div>\n",
              "  "
            ]
          },
          "metadata": {},
          "execution_count": 13
        }
      ]
    },
    {
      "cell_type": "markdown",
      "source": [
        "Perform Sentiment Analysis using TextBlob"
      ],
      "metadata": {
        "id": "_W8Ci2C50ItO"
      }
    },
    {
      "cell_type": "code",
      "source": [
        "# Perform sentiment analysis using TextBlob\n",
        "df2['polarity_textblob'] = df2['cleaned_text'].apply(lambda x: TextBlob(x).sentiment.polarity)\n"
      ],
      "metadata": {
        "id": "QUGYLdgUzj2H"
      },
      "execution_count": 14,
      "outputs": []
    },
    {
      "cell_type": "markdown",
      "source": [
        "Perform Sentiment Analysis using VADER"
      ],
      "metadata": {
        "id": "-b3KGr_V0QN6"
      }
    },
    {
      "cell_type": "code",
      "source": [
        "# Perform sentiment analysis using VADER\n",
        "analyzer = SentimentIntensityAnalyzer()\n",
        "df2['sentiment_vader'] = df2['cleaned_text'].apply(lambda x: analyzer.polarity_scores(x)['compound'])\n"
      ],
      "metadata": {
        "id": "xvrWC-ffzjzc"
      },
      "execution_count": 15,
      "outputs": []
    },
    {
      "cell_type": "markdown",
      "source": [
        "Perform Sentiment Analysis using AFINN"
      ],
      "metadata": {
        "id": "-zqn81Wf0Yy7"
      }
    },
    {
      "cell_type": "code",
      "source": [
        "# Perform sentiment analysis using AFINN\n",
        "afinn = Afinn()\n",
        "df2['sentiment_afinn'] = df2['cleaned_text'].apply(lambda x: afinn.score(x))\n"
      ],
      "metadata": {
        "id": "RqcC3AkCzjwz"
      },
      "execution_count": 16,
      "outputs": []
    },
    {
      "cell_type": "markdown",
      "source": [
        "Print Result"
      ],
      "metadata": {
        "id": "d3DrHe-z0g8i"
      }
    },
    {
      "cell_type": "code",
      "source": [
        "# Print the results\n",
        "df2.head()"
      ],
      "metadata": {
        "id": "E3lsPsvczjuD",
        "colab": {
          "base_uri": "https://localhost:8080/",
          "height": 463
        },
        "outputId": "52b5f54b-1424-4529-a20c-0e8ccea5fec2"
      },
      "execution_count": 17,
      "outputs": [
        {
          "output_type": "execute_result",
          "data": {
            "text/plain": [
              "                                               Tweet  \\\n",
              "0  The Daily Mail has really turned on Boris John...   \n",
              "2  More Tax payers money Laundering through Boris...   \n",
              "3  @paulwaugh We love Boris Johnson \\n\\nThe Briti...   \n",
              "4  Just like the time he reframed the google resu...   \n",
              "6  @44tunafish @northumbrian_ @BootsVernon @Jim_C...   \n",
              "\n",
              "                                        cleaned_text  polarity_textblob  \\\n",
              "0  daily mail turn boris johnson guess owner edit...           0.000000   \n",
              "2  tax payer money laundering boris johnson bill ...           0.000000   \n",
              "3  love boris johnson british people place trust ...           0.433333   \n",
              "4  like time reframe google result boris johnson ...           0.175000   \n",
              "6  like boris johnson explicitly not want people ...          -0.500000   \n",
              "\n",
              "   sentiment_vader  sentiment_afinn  \n",
              "0           0.0000              0.0  \n",
              "2           0.0000              0.0  \n",
              "3           0.9118              7.0  \n",
              "4           0.6249              2.0  \n",
              "6          -0.2076              1.0  "
            ],
            "text/html": [
              "\n",
              "  <div id=\"df-c3490314-6a61-46ca-80ee-6cc490e67726\">\n",
              "    <div class=\"colab-df-container\">\n",
              "      <div>\n",
              "<style scoped>\n",
              "    .dataframe tbody tr th:only-of-type {\n",
              "        vertical-align: middle;\n",
              "    }\n",
              "\n",
              "    .dataframe tbody tr th {\n",
              "        vertical-align: top;\n",
              "    }\n",
              "\n",
              "    .dataframe thead th {\n",
              "        text-align: right;\n",
              "    }\n",
              "</style>\n",
              "<table border=\"1\" class=\"dataframe\">\n",
              "  <thead>\n",
              "    <tr style=\"text-align: right;\">\n",
              "      <th></th>\n",
              "      <th>Tweet</th>\n",
              "      <th>cleaned_text</th>\n",
              "      <th>polarity_textblob</th>\n",
              "      <th>sentiment_vader</th>\n",
              "      <th>sentiment_afinn</th>\n",
              "    </tr>\n",
              "  </thead>\n",
              "  <tbody>\n",
              "    <tr>\n",
              "      <th>0</th>\n",
              "      <td>The Daily Mail has really turned on Boris John...</td>\n",
              "      <td>daily mail turn boris johnson guess owner edit...</td>\n",
              "      <td>0.000000</td>\n",
              "      <td>0.0000</td>\n",
              "      <td>0.0</td>\n",
              "    </tr>\n",
              "    <tr>\n",
              "      <th>2</th>\n",
              "      <td>More Tax payers money Laundering through Boris...</td>\n",
              "      <td>tax payer money laundering boris johnson bill ...</td>\n",
              "      <td>0.000000</td>\n",
              "      <td>0.0000</td>\n",
              "      <td>0.0</td>\n",
              "    </tr>\n",
              "    <tr>\n",
              "      <th>3</th>\n",
              "      <td>@paulwaugh We love Boris Johnson \\n\\nThe Briti...</td>\n",
              "      <td>love boris johnson british people place trust ...</td>\n",
              "      <td>0.433333</td>\n",
              "      <td>0.9118</td>\n",
              "      <td>7.0</td>\n",
              "    </tr>\n",
              "    <tr>\n",
              "      <th>4</th>\n",
              "      <td>Just like the time he reframed the google resu...</td>\n",
              "      <td>like time reframe google result boris johnson ...</td>\n",
              "      <td>0.175000</td>\n",
              "      <td>0.6249</td>\n",
              "      <td>2.0</td>\n",
              "    </tr>\n",
              "    <tr>\n",
              "      <th>6</th>\n",
              "      <td>@44tunafish @northumbrian_ @BootsVernon @Jim_C...</td>\n",
              "      <td>like boris johnson explicitly not want people ...</td>\n",
              "      <td>-0.500000</td>\n",
              "      <td>-0.2076</td>\n",
              "      <td>1.0</td>\n",
              "    </tr>\n",
              "  </tbody>\n",
              "</table>\n",
              "</div>\n",
              "      <button class=\"colab-df-convert\" onclick=\"convertToInteractive('df-c3490314-6a61-46ca-80ee-6cc490e67726')\"\n",
              "              title=\"Convert this dataframe to an interactive table.\"\n",
              "              style=\"display:none;\">\n",
              "        \n",
              "  <svg xmlns=\"http://www.w3.org/2000/svg\" height=\"24px\"viewBox=\"0 0 24 24\"\n",
              "       width=\"24px\">\n",
              "    <path d=\"M0 0h24v24H0V0z\" fill=\"none\"/>\n",
              "    <path d=\"M18.56 5.44l.94 2.06.94-2.06 2.06-.94-2.06-.94-.94-2.06-.94 2.06-2.06.94zm-11 1L8.5 8.5l.94-2.06 2.06-.94-2.06-.94L8.5 2.5l-.94 2.06-2.06.94zm10 10l.94 2.06.94-2.06 2.06-.94-2.06-.94-.94-2.06-.94 2.06-2.06.94z\"/><path d=\"M17.41 7.96l-1.37-1.37c-.4-.4-.92-.59-1.43-.59-.52 0-1.04.2-1.43.59L10.3 9.45l-7.72 7.72c-.78.78-.78 2.05 0 2.83L4 21.41c.39.39.9.59 1.41.59.51 0 1.02-.2 1.41-.59l7.78-7.78 2.81-2.81c.8-.78.8-2.07 0-2.86zM5.41 20L4 18.59l7.72-7.72 1.47 1.35L5.41 20z\"/>\n",
              "  </svg>\n",
              "      </button>\n",
              "      \n",
              "  <style>\n",
              "    .colab-df-container {\n",
              "      display:flex;\n",
              "      flex-wrap:wrap;\n",
              "      gap: 12px;\n",
              "    }\n",
              "\n",
              "    .colab-df-convert {\n",
              "      background-color: #E8F0FE;\n",
              "      border: none;\n",
              "      border-radius: 50%;\n",
              "      cursor: pointer;\n",
              "      display: none;\n",
              "      fill: #1967D2;\n",
              "      height: 32px;\n",
              "      padding: 0 0 0 0;\n",
              "      width: 32px;\n",
              "    }\n",
              "\n",
              "    .colab-df-convert:hover {\n",
              "      background-color: #E2EBFA;\n",
              "      box-shadow: 0px 1px 2px rgba(60, 64, 67, 0.3), 0px 1px 3px 1px rgba(60, 64, 67, 0.15);\n",
              "      fill: #174EA6;\n",
              "    }\n",
              "\n",
              "    [theme=dark] .colab-df-convert {\n",
              "      background-color: #3B4455;\n",
              "      fill: #D2E3FC;\n",
              "    }\n",
              "\n",
              "    [theme=dark] .colab-df-convert:hover {\n",
              "      background-color: #434B5C;\n",
              "      box-shadow: 0px 1px 3px 1px rgba(0, 0, 0, 0.15);\n",
              "      filter: drop-shadow(0px 1px 2px rgba(0, 0, 0, 0.3));\n",
              "      fill: #FFFFFF;\n",
              "    }\n",
              "  </style>\n",
              "\n",
              "      <script>\n",
              "        const buttonEl =\n",
              "          document.querySelector('#df-c3490314-6a61-46ca-80ee-6cc490e67726 button.colab-df-convert');\n",
              "        buttonEl.style.display =\n",
              "          google.colab.kernel.accessAllowed ? 'block' : 'none';\n",
              "\n",
              "        async function convertToInteractive(key) {\n",
              "          const element = document.querySelector('#df-c3490314-6a61-46ca-80ee-6cc490e67726');\n",
              "          const dataTable =\n",
              "            await google.colab.kernel.invokeFunction('convertToInteractive',\n",
              "                                                     [key], {});\n",
              "          if (!dataTable) return;\n",
              "\n",
              "          const docLinkHtml = 'Like what you see? Visit the ' +\n",
              "            '<a target=\"_blank\" href=https://colab.research.google.com/notebooks/data_table.ipynb>data table notebook</a>'\n",
              "            + ' to learn more about interactive tables.';\n",
              "          element.innerHTML = '';\n",
              "          dataTable['output_type'] = 'display_data';\n",
              "          await google.colab.output.renderOutput(dataTable, element);\n",
              "          const docLink = document.createElement('div');\n",
              "          docLink.innerHTML = docLinkHtml;\n",
              "          element.appendChild(docLink);\n",
              "        }\n",
              "      </script>\n",
              "    </div>\n",
              "  </div>\n",
              "  "
            ]
          },
          "metadata": {},
          "execution_count": 17
        }
      ]
    },
    {
      "cell_type": "code",
      "source": [
        "import pandas as pd\n",
        "df2.to_excel('testoutputdeleteafter.xlsx', index=False)"
      ],
      "metadata": {
        "id": "3FQXvtnqzjrV"
      },
      "execution_count": 17,
      "outputs": []
    },
    {
      "cell_type": "markdown",
      "source": [
        "Calculating propotion of sentiment"
      ],
      "metadata": {
        "id": "m6lzh9rZEgGa"
      }
    },
    {
      "cell_type": "code",
      "source": [
        "def calculate_sentiment_proportions(df, sentiment_column):\n",
        "    # Get the number of positive, negative, and neutral tweets\n",
        "    num_positive = len(df[df[sentiment_column] > 0])\n",
        "    num_negative = len(df[df[sentiment_column] < 0])\n",
        "    num_neutral = len(df[df[sentiment_column] == 0])\n",
        "    # Calculate the proportions of positive, negative, and neutral tweets\n",
        "    total = num_positive + num_negative + num_neutral\n",
        "    prop_positive = (num_positive / total)*100\n",
        "    prop_negative = (num_negative / total)*100\n",
        "    prop_neutral = (num_neutral / total)*100\n",
        "    # Print Output\n",
        "\n",
        "    print(\"Postive\", prop_positive)\n",
        "    print(\"Negative\", prop_negative)\n",
        "    print(\"Neutral\", prop_neutral)\n"
      ],
      "metadata": {
        "id": "nEX__mHSzjll"
      },
      "execution_count": 18,
      "outputs": []
    },
    {
      "cell_type": "code",
      "source": [
        "#Textblob\n",
        "print(\"Textblob:\")\n",
        "calculate_sentiment_proportions(df2,'polarity_textblob')\n",
        "print()\n",
        "#VADAR\n",
        "print(\"VADAR:\")\n",
        "calculate_sentiment_proportions(df2,'sentiment_vader')\n",
        "print()\n",
        "print(\"AFINN\")\n",
        "#AFINN\n",
        "calculate_sentiment_proportions(df2,'sentiment_afinn')\n"
      ],
      "metadata": {
        "id": "xuQhZkh9zjd9",
        "colab": {
          "base_uri": "https://localhost:8080/"
        },
        "outputId": "0b6e1904-dfdc-4036-c2ef-801559a96eaf"
      },
      "execution_count": 19,
      "outputs": [
        {
          "output_type": "stream",
          "name": "stdout",
          "text": [
            "Textblob:\n",
            "Postive 24.083769633507853\n",
            "Negative 30.157068062827225\n",
            "Neutral 45.75916230366492\n",
            "\n",
            "VADAR:\n",
            "Postive 29.214659685863875\n",
            "Negative 46.38743455497382\n",
            "Neutral 24.397905759162303\n",
            "\n",
            "AFINN\n",
            "Postive 21.57068062827225\n",
            "Negative 52.35602094240838\n",
            "Neutral 26.07329842931937\n"
          ]
        }
      ]
    },
    {
      "cell_type": "code",
      "source": [],
      "metadata": {
        "id": "jhrXV4YhzjTo"
      },
      "execution_count": null,
      "outputs": []
    }
  ]
}