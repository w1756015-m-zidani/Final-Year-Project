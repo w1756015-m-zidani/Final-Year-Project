{
  "nbformat": 4,
  "nbformat_minor": 0,
  "metadata": {
    "colab": {
      "provenance": [],
      "authorship_tag": "ABX9TyN1/8RXIGw9QyVYvzHSBK2P",
      "include_colab_link": true
    },
    "kernelspec": {
      "name": "python3",
      "display_name": "Python 3"
    },
    "language_info": {
      "name": "python"
    }
  },
  "cells": [
    {
      "cell_type": "markdown",
      "metadata": {
        "id": "view-in-github",
        "colab_type": "text"
      },
      "source": [
        "<a href=\"https://colab.research.google.com/github/w1756015-m-zidani/Final-Year-Project/blob/main/Final_Code_to_Extract_Tweets.ipynb\" target=\"_parent\"><img src=\"https://colab.research.google.com/assets/colab-badge.svg\" alt=\"Open In Colab\"/></a>"
      ]
    },
    {
      "cell_type": "code",
      "source": [
        "pip install snscrape"
      ],
      "metadata": {
        "id": "2TMHd0SiP0uT"
      },
      "execution_count": null,
      "outputs": []
    },
    {
      "cell_type": "code",
      "source": [
        "pip install -U snscrape"
      ],
      "metadata": {
        "id": "aGYu3kBDTPfp"
      },
      "execution_count": null,
      "outputs": []
    },
    {
      "cell_type": "code",
      "execution_count": null,
      "metadata": {
        "id": "0-k0PQ3aLgQn"
      },
      "outputs": [],
      "source": [
        "import snscrape.modules.twitter as sntwitter\n",
        "import pandas as pd\n",
        "\n",
        "# Define the start and end dates for the search as strings\n",
        "start_date = '2020-02-24'\n",
        "end_date = '2020-04-22'\n",
        "\n",
        "# Creating list to append tweet data to\n",
        "tweets_list2 = []\n",
        "\n",
        "# Using TwitterSearchScraper to scrape data and append tweets to list\n",
        "for i, tweet in enumerate(sntwitter.TwitterSearchScraper(f'Boris Johnson since:{start_date} until:{end_date}').get_items()):\n",
        "    # Append tweet date and content to the list\n",
        "    tweets_list2.append([tweet.date, tweet.content])\n",
        "    \n",
        "# Creating a Pandas DataFrame from the tweet data stored in tweets_list2 with columns 'Datetime' and 'Text'.\n",
        "tweets_df2 = pd.DataFrame(tweets_list2, columns=['Datetime', 'Text'])\n",
        "\n",
        "# Save the DataFrame to a CSV file named 'out.csv' in the specified directory\n",
        "tweets_df2.to_csv(r'C:\\Users\\M Z\\Documents\\Tweets Data\\Tweets.csv')\n"
      ]
    }
  ]
}